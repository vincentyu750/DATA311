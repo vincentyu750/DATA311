{
 "cells": [
  {
   "cell_type": "code",
   "execution_count": 2,
   "metadata": {},
   "outputs": [
    {
     "name": "stdout",
     "output_type": "stream",
     "text": [
      "Original Unsorted List\n",
      "[21, 20, 18, 25, 44, 8]\n",
      "\n",
      "\n",
      "left:\n",
      "[21, 20, 18]\n",
      "right:\n",
      "[25, 44, 8]\n",
      "\n",
      "left:\n",
      "[21]\n",
      "right:\n",
      "[20, 18]\n",
      "\n",
      "left:\n",
      "[20]\n",
      "right:\n",
      "[18]\n",
      "\n",
      "left:\n",
      "[25]\n",
      "right:\n",
      "[44, 8]\n",
      "\n",
      "left:\n",
      "[44]\n",
      "right:\n",
      "[8]\n",
      "\n",
      "Sorted List by Merge Sort\n",
      "[8, 18, 20, 21, 25, 44]\n"
     ]
    }
   ],
   "source": [
    "# Python program for implementation of MergeSort \n",
    "def mergeSort(arr): \n",
    "    if len(arr) >1: \n",
    "        mid = len(arr)//2 # Finding the mid of the array \n",
    "        L = arr[:mid] # Dividing the array elements  \n",
    "        R = arr[mid:] # into 2 halves \n",
    "        \n",
    "        print(\"left:\\n\"+str(L).replace(\"],\",\"]\\n\")) \n",
    "        print(\"right:\\n\"+str(R).replace(\"],\",\"]\\n\")) \n",
    "        print(\"\")\n",
    "        \n",
    "  \n",
    "        mergeSort(L) # Sorting the first half \n",
    "        mergeSort(R) # Sorting the second half \n",
    "  \n",
    "        i = j = k = 0\n",
    "          \n",
    "        # Copy data to temp arrays L[] and R[] \n",
    "        while i < len(L) and j < len(R): \n",
    "            if L[i] < R[j]: \n",
    "                arr[k] = L[i] \n",
    "                i+= 1\n",
    "            else: \n",
    "                arr[k] = R[j] \n",
    "                j+= 1\n",
    "            k+= 1\n",
    "          \n",
    "        # Checking if any element was left \n",
    "        while i < len(L): \n",
    "            arr[k] = L[i] \n",
    "            i+= 1\n",
    "            k+= 1\n",
    "          \n",
    "        while j < len(R): \n",
    "            arr[k] = R[j] \n",
    "            j+= 1\n",
    "            k+= 1\n",
    "\n",
    "# Driver code and data to test run the algorithm\n",
    "alist = [21,20,18,25,44,8]\n",
    "print(\"Original Unsorted List\")\n",
    "print(alist)\n",
    "print(\"\\n\")\n",
    "\n",
    "mergeSort(alist)\n",
    "print(\"Sorted List by Merge Sort\")\n",
    "print(alist)"
   ]
  },
  {
   "cell_type": "code",
   "execution_count": null,
   "metadata": {},
   "outputs": [],
   "source": []
  }
 ],
 "metadata": {
  "kernelspec": {
   "display_name": "Python 3",
   "language": "python",
   "name": "python3"
  },
  "language_info": {
   "codemirror_mode": {
    "name": "ipython",
    "version": 3
   },
   "file_extension": ".py",
   "mimetype": "text/x-python",
   "name": "python",
   "nbconvert_exporter": "python",
   "pygments_lexer": "ipython3",
   "version": "3.8.5"
  }
 },
 "nbformat": 4,
 "nbformat_minor": 4
}
