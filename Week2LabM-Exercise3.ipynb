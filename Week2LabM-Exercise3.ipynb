{
 "cells": [
  {
   "cell_type": "code",
   "execution_count": 1,
   "metadata": {},
   "outputs": [
    {
     "name": "stdout",
     "output_type": "stream",
     "text": [
      "\n",
      "Please select one of the following objects to draw. Enter '0' to end the program: \n",
      "1 - Square\n",
      "2 - Triangle \n",
      "3 - Rectangle \n",
      "4 - Parallelogram\n",
      "\n"
     ]
    },
    {
     "name": "stdin",
     "output_type": "stream",
     "text": [
      "Your selection is:  1\n",
      "Please enter the character needed to be used for drawing:  *\n",
      "Please enter the length of one side of the Square:  5\n"
     ]
    },
    {
     "name": "stdout",
     "output_type": "stream",
     "text": [
      "\n",
      "*****\n",
      "*****\n",
      "*****\n",
      "*****\n",
      "*****\n",
      "\n",
      "Next Object to Draw\n",
      "\n",
      "Please select one of the following objects to draw. Enter '0' to end the program: \n",
      "1 - Square\n",
      "2 - Triangle \n",
      "3 - Rectangle \n",
      "4 - Parallelogram\n",
      "\n"
     ]
    },
    {
     "name": "stdin",
     "output_type": "stream",
     "text": [
      "Your selection is:  0\n"
     ]
    },
    {
     "name": "stdout",
     "output_type": "stream",
     "text": [
      "\n",
      "Total number of drawn objects is: 1\n",
      "program ends\n"
     ]
    }
   ],
   "source": [
    "import sys\n",
    "\n",
    "print(\"\")\n",
    "print(\"Please select one of the following objects to draw. Enter '0' to end the program: \")\n",
    "print(\"1 - Square\\n2 - Triangle \\n3 - Rectangle \\n4 - Parallelogram\\n\")\n",
    "\n",
    "objectVal = int(input(\"Your selection is: \"))\n",
    "\n",
    "if int(objectVal) == 1:\n",
    "    objectType = \"Square\"\n",
    "elif int(objectVal) == 2:\n",
    "    objectType = \"Triangle\"\n",
    "elif int(objectVal) == 3:\n",
    "    objectType = \"Rectangle\"\n",
    "elif int(objectVal) == 4:\n",
    "    objectType = \"Parallelogram\"\n",
    "elif int(objectVal) == 0:\n",
    "    print(\"There are no drawn objects, program ends\")\n",
    "    sys.exit(0)\n",
    "    \n",
    "objectChar = input(\"Please enter the character needed to be used for drawing: \")\n",
    "count = 0\n",
    "\n",
    "while objectVal != 0:\n",
    "    \n",
    "    if int(objectVal) == 1:\n",
    "        widthVal = int(input(\"Please enter the length of one side of the \" + objectType +\": \"))\n",
    "        print(\"\")\n",
    "        \n",
    "        #Square\n",
    "        for row in range(widthVal): #height\n",
    "            for col in range(widthVal): #Width\n",
    "                print(objectChar, end='')\n",
    "            print()\n",
    "        count += 1\n",
    "    \n",
    "    elif int(objectVal) == 2:\n",
    "        print(\"\")\n",
    "        #Triangle\n",
    "        for col in range(5):\n",
    "            for row in range(col + 1):\n",
    "                print(objectChar, end='')\n",
    "            print()\n",
    "        count += 1\n",
    "\n",
    "    elif int(objectVal) == 3:\n",
    "        widthVal = int(input(\"Please enter the width of the \" + objectType +\": \"))\n",
    "        heightVal = int(input(\"Please enter the height of the \" + objectType +\": \"))\n",
    "        print(\"\")\n",
    "        \n",
    "        #Rectangle\n",
    "        for row in range(heightVal): #height\n",
    "            for col in range(widthVal): #Width\n",
    "                print(objectChar, end='')\n",
    "            print()\n",
    "        count += 1\n",
    "        \n",
    "    elif int(objectVal) == 4:\n",
    "        widthVal = int(input(\"Please enter the width of the \" + objectType +\": \"))\n",
    "        heightVal = int(input(\"Please enter the height of the \" + objectType +\": \"))\n",
    "        print(\"\")\n",
    "        \n",
    "        #parallelogram\n",
    "        for row in range(0,heightVal): #height\n",
    "            print((\" \"*row)+((objectChar)*widthVal)) #width\n",
    "        count += 1\n",
    "        \n",
    "    elif int(objectVal) == 0:\n",
    "        print(\"There are no drawn objects, program ends\")\n",
    "        break\n",
    "                    \n",
    "    else:\n",
    "        print(\"Invalid selection\")\n",
    "\n",
    "    print(\"\")\n",
    "    print(\"Next Object to Draw\")\n",
    "    print(\"\")\n",
    "    print(\"Please select one of the following objects to draw. Enter '0' to end the program: \")\n",
    "    print(\"1 - Square\\n2 - Triangle \\n3 - Rectangle \\n4 - Parallelogram\\n\")\n",
    "        \n",
    "    objectVal = int(input(\"Your selection is: \"))\n",
    "\n",
    "    if int(objectVal) == 1:\n",
    "        objectType = \"Square\"\n",
    "    elif int(objectVal) == 2:\n",
    "        objectType = \"Triangle\"\n",
    "    elif int(objectVal) == 3:\n",
    "        objectType = \"Rectangle\"\n",
    "    elif int(objectVal) == 4:\n",
    "        objectType = \"Parallelogram\"\n",
    "    elif int(objectVal) == 0:\n",
    "        print(\"\")\n",
    "        print(\"Total number of drawn objects is: \" + str(count))\n",
    "        print(\"program ends\")\n",
    "        continue\n",
    "    else:\n",
    "        print(\"Invalid Selection. Please enter another number\")\n",
    "        \n",
    "    objectChar = input(\"Please enter the character needed to be used for drawing: \")\n",
    "\n"
   ]
  },
  {
   "cell_type": "code",
   "execution_count": null,
   "metadata": {},
   "outputs": [],
   "source": []
  }
 ],
 "metadata": {
  "kernelspec": {
   "display_name": "Python 3",
   "language": "python",
   "name": "python3"
  },
  "language_info": {
   "codemirror_mode": {
    "name": "ipython",
    "version": 3
   },
   "file_extension": ".py",
   "mimetype": "text/x-python",
   "name": "python",
   "nbconvert_exporter": "python",
   "pygments_lexer": "ipython3",
   "version": "3.8.3"
  }
 },
 "nbformat": 4,
 "nbformat_minor": 4
}
