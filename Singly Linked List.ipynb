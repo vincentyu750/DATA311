{
 "cells": [
  {
   "cell_type": "code",
   "execution_count": 16,
   "metadata": {},
   "outputs": [
    {
     "name": "stdout",
     "output_type": "stream",
     "text": [
      "*\n",
      "3 --> *\n",
      "7 --> 3 --> *\n",
      "3 --> *\n",
      "3 --> 7 --> *\n",
      "3 --> *\n",
      "3 --> 7 --> 5 --> 9 --> *\n",
      "3\n"
     ]
    }
   ],
   "source": [
    "class SLinkedList:\n",
    "    #Nested Node structure\n",
    "    class Node:\n",
    "        def __init__(self, val, next = None):\n",
    "            self.val=val\n",
    "            self.next = next\n",
    "    \n",
    "    #constructor for linkedList\n",
    "    def __init__(self):\n",
    "        self.head = None\n",
    "        \n",
    "    def addHead(self, val):\n",
    "        self.head=self.Node(val, self.head)\n",
    "    \n",
    "    def removeHead(self):\n",
    "        if self.head is not None:\n",
    "            self.head = self.head.next\n",
    "    \n",
    "    def addTail(self, val):\n",
    "        node=self.head\n",
    "        while node.next!=None:\n",
    "            node = node.next\n",
    "        node.next = self.Node(val)\n",
    "        \n",
    "    def removeTail(self):\n",
    "        node=self.head\n",
    "        while node.next!=None:\n",
    "            pnode=node\n",
    "            node = node.next\n",
    "        pnode.next = None\n",
    "        del node\n",
    "        \n",
    "    def printHead(self):\n",
    "        if self.head is not None:\n",
    "            print(self.head.val)\n",
    "    \n",
    "    #Print List\n",
    "    def printList(self):\n",
    "        node = self.head\n",
    "        while node is not None:\n",
    "            print(node.val, \"--> \", end=\"\")\n",
    "            node = node.next\n",
    "        print(\"*\")\n",
    "        \n",
    "def main():\n",
    "    myList = SLinkedList()\n",
    "    myList.printList()\n",
    "    myList.addHead(3)\n",
    "    myList.printList()\n",
    "    myList.addHead(7)\n",
    "    myList.printList()\n",
    "    myList.removeHead()\n",
    "    myList.printList()\n",
    "    myList.addTail(7)\n",
    "    myList.printList()\n",
    "    myList.removeTail()\n",
    "    myList.printList()\n",
    "    myList.addTail(7)\n",
    "    myList.addTail(5)\n",
    "    myList.addTail(9)\n",
    "    myList.printList()\n",
    "    myList.printHead()\n",
    "main()"
   ]
  },
  {
   "cell_type": "code",
   "execution_count": 18,
   "metadata": {},
   "outputs": [
    {
     "name": "stdout",
     "output_type": "stream",
     "text": [
      "1.5\n",
      "1\n"
     ]
    }
   ],
   "source": [
    "print(3/2)\n",
    "print(3//2)"
   ]
  },
  {
   "cell_type": "code",
   "execution_count": null,
   "metadata": {},
   "outputs": [],
   "source": []
  }
 ],
 "metadata": {
  "kernelspec": {
   "display_name": "Python 3",
   "language": "python",
   "name": "python3"
  },
  "language_info": {
   "codemirror_mode": {
    "name": "ipython",
    "version": 3
   },
   "file_extension": ".py",
   "mimetype": "text/x-python",
   "name": "python",
   "nbconvert_exporter": "python",
   "pygments_lexer": "ipython3",
   "version": "3.8.5"
  }
 },
 "nbformat": 4,
 "nbformat_minor": 4
}
