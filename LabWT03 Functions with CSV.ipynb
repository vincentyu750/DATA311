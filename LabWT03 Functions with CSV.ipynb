{
 "cells": [
  {
   "cell_type": "code",
   "execution_count": 26,
   "metadata": {},
   "outputs": [
    {
     "name": "stdout",
     "output_type": "stream",
     "text": [
      "['PROVINCE', 'POPULATION']\n",
      "['Newfoundland and Labrador', '522,818']\n",
      "['Prince Edward Island', '155,656']\n",
      "['Nova Scotia', '966,709']\n",
      "['New Brunswick', '773,887']\n",
      "['Quebec', '8,447,609']\n",
      "['Ontario', '14,484,242']\n",
      "['Manitoba', '1,364,400']\n",
      "['Saskatchewan', '1,171,027']\n",
      "['Alberta', '4,350,901']\n",
      "['British Columbia', '5,046,780']\n",
      "['Yukon', '40,601']\n",
      "['Northwest Territories', '44,909']\n",
      "['Nunavut', '38,666']\n"
     ]
    }
   ],
   "source": [
    "#This function reads in a csv file and prints out its contents to console\n",
    "\n",
    "#Imports:\n",
    "import csv\n",
    "\n",
    "\"\"\"\n",
    "Parameter:Name of csv file\n",
    "Return: - \n",
    "\"\"\"\n",
    "def readfile(filename):\n",
    "    with open(filename) as csv_file:\n",
    "        csv_reader = csv.reader(csv_file, delimiter = ',')\n",
    "        #print(csv_reader)\n",
    "        for row in csv_reader:\n",
    "            print(row)\n",
    "            \n",
    "readfile('population.csv')"
   ]
  },
  {
   "cell_type": "code",
   "execution_count": 13,
   "metadata": {},
   "outputs": [
    {
     "name": "stdout",
     "output_type": "stream",
     "text": [
      "['Newfoundland and Labrador', '522,818']\n",
      "['Prince Edward Island', '155,656']\n",
      "['Nova Scotia', '966,709']\n",
      "['New Brunswick', '773,887']\n",
      "['Quebec', '8,447,609']\n",
      "['Manitoba', '1,364,400']\n",
      "['Saskatchewan', '1,171,027']\n",
      "['British Columbia', '5,046,780']\n",
      "['Yukon', '40,601']\n",
      "['Northwest Territories', '44,909']\n",
      "['Nunavut', '38,666']\n"
     ]
    }
   ],
   "source": [
    "\"\"\"\n",
    "Exercise 1: Read the first column of csv and print rows where the first column has values \n",
    "where the first and last characters are the same.\n",
    "\"\"\"\n",
    "\n",
    "\"\"\"\n",
    "Parameters: String\n",
    "Return: Boolean (True or False)\n",
    "\"\"\"\n",
    "#st = 'Alberta' st[0] = 'A', st[1]=l, st[6]='a'\n",
    "#st[len(st)-1], st[-1] = 'a', st[-2] ='t'\n",
    "def checkFirstLast(st):\n",
    "    if (st[0].lower() == st[-1].lower()):\n",
    "        return True\n",
    "    else:\n",
    "        return False\n",
    "    \n",
    "#print(checkFirstLast('stringS'))\n",
    "\n",
    "def readfile(filename):\n",
    "    with open(filename) as csv_file:\n",
    "        csv_reader = csv.reader(csv_file, delimiter = ',')\n",
    "        next(csv_reader)\n",
    "        #print(csv_reader)\n",
    "        for row in csv_reader:\n",
    "            if not checkFirstLast(row[0]):\n",
    "                print(row)\n",
    "\n",
    "readfile('population.csv')"
   ]
  },
  {
   "cell_type": "code",
   "execution_count": 19,
   "metadata": {},
   "outputs": [
    {
     "name": "stdout",
     "output_type": "stream",
     "text": [
      "['fruit']\n",
      "['banana']\n",
      "['orange ']\n",
      "['apple']\n"
     ]
    }
   ],
   "source": [
    "\"\"\"\n",
    "Exercise 2: Remove Duplicates from csv\n",
    "\"\"\"\n",
    "\n",
    "\"\"\"\n",
    "Parameter:Name of csv file\n",
    "Return: - \n",
    "\"\"\"\n",
    "def removeDuplicatesFromFile(filename):\n",
    "    with open(filename) as csv_file:\n",
    "        csv_reader = csv.reader(csv_file, delimiter = ',')\n",
    "        #Define Set to store values that are already seen\n",
    "        seen = set()\n",
    "        for row in csv_reader:\n",
    "            if not row[0] in seen:\n",
    "                seen.add(row[0])\n",
    "                print(row)\n",
    "            \n",
    "removeDuplicatesFromFile('fruits.csv')"
   ]
  },
  {
   "cell_type": "code",
   "execution_count": 20,
   "metadata": {},
   "outputs": [
    {
     "name": "stdout",
     "output_type": "stream",
     "text": [
      "['fruit']\n",
      "['banana']\n",
      "['orange ']\n",
      "['apple']\n"
     ]
    }
   ],
   "source": [
    "\"\"\"\n",
    "Exercise 2: Remove Duplicates from csv\n",
    "\"\"\"\n",
    "\n",
    "\"\"\"\n",
    "Parameter:Name of csv file, output file name\n",
    "Return: - \n",
    "\"\"\"\n",
    "def removeDuplicatesFromFile_2(filename, outfile):\n",
    "    with open(filename) as csv_file, open(outfile, 'w') as outfile:\n",
    "        csv_reader = csv.reader(csv_file, delimiter = ',')\n",
    "        csv_writer = csv.writer(outfile)\n",
    "        #Define Set to store values that are already seen\n",
    "        seen = set()\n",
    "        for row in csv_reader:\n",
    "            if not row[0] in seen:\n",
    "                seen.add(row[0])\n",
    "                csv_writer.writerow(row)\n",
    "                print(row)\n",
    "            \n",
    "removeDuplicatesFromFile_2('fruits.csv', 'unique.csv')"
   ]
  },
  {
   "cell_type": "code",
   "execution_count": 21,
   "metadata": {},
   "outputs": [
    {
     "name": "stdout",
     "output_type": "stream",
     "text": [
      "{'PROVINCE': 'Newfoundland and Labrador', 'POPULATION': '522,818'}\n",
      "{'PROVINCE': 'Prince Edward Island', 'POPULATION': '155,656'}\n",
      "{'PROVINCE': 'Nova Scotia', 'POPULATION': '966,709'}\n",
      "{'PROVINCE': 'New Brunswick', 'POPULATION': '773,887'}\n",
      "{'PROVINCE': 'Quebec', 'POPULATION': '8,447,609'}\n",
      "{'PROVINCE': 'Ontario', 'POPULATION': '14,484,242'}\n",
      "{'PROVINCE': 'Manitoba', 'POPULATION': '1,364,400'}\n",
      "{'PROVINCE': 'Saskatchewan', 'POPULATION': '1,171,027'}\n",
      "{'PROVINCE': 'Alberta', 'POPULATION': '4,350,901'}\n",
      "{'PROVINCE': 'British Columbia', 'POPULATION': '5,046,780'}\n",
      "{'PROVINCE': 'Yukon', 'POPULATION': '40,601'}\n",
      "{'PROVINCE': 'Northwest Territories', 'POPULATION': '44,909'}\n",
      "{'PROVINCE': 'Nunavut', 'POPULATION': '38,666'}\n"
     ]
    }
   ],
   "source": [
    "\"\"\"\n",
    "dict = {'key':'value'} access value by dict['key']\n",
    "Version 1: {'PROVINCE': 'Alberta', 'Population':6765675}, {'PROVINCE': 'Ontario', 'Population':6765675} csv.DictReader()\n",
    "Version 2: {'Alberta':'587676', 'Ontario':'353454'}\n",
    "\"\"\"\n",
    "\n",
    "\"\"\"\n",
    "Version 1:{'PROVINCE': 'Alberta', 'Population':6765675}\n",
    "Parameter:Name of csv file\n",
    "Return: - \n",
    "\"\"\"\n",
    "def readfileintoDict_1(filename):\n",
    "    with open(filename) as csv_file:\n",
    "        csv_reader = csv.DictReader(csv_file, delimiter = ',')\n",
    "        for row in csv_reader:\n",
    "            print(row)\n",
    "            \n",
    "readfileintoDict_1('population.csv')"
   ]
  },
  {
   "cell_type": "code",
   "execution_count": 25,
   "metadata": {},
   "outputs": [
    {
     "name": "stdout",
     "output_type": "stream",
     "text": [
      "{'Newfoundland and Labrador': '522,818', 'Prince Edward Island': '155,656', 'Nova Scotia': '966,709', 'New Brunswick': '773,887', 'Quebec': '8,447,609', 'Ontario': '14,484,242', 'Manitoba': '1,364,400', 'Saskatchewan': '1,171,027', 'Alberta': '4,350,901', 'British Columbia': '5,046,780', 'Yukon': '40,601', 'Northwest Territories': '44,909', 'Nunavut': '38,666'}\n",
      "4,350,901\n"
     ]
    }
   ],
   "source": [
    "\"\"\"\n",
    "Version 2: {'Alberta':'587676', 'Ontario':'353454'}\n",
    "Parameter: Csv File\n",
    "Return: Dictionary\n",
    "\"\"\"\n",
    "def readfileintoDict_2(filename):\n",
    "    with open(filename) as f:\n",
    "        reader = csv.reader(f, delimiter =',')\n",
    "        next(reader)\n",
    "        population_dict = {row[0]:row[1:] for row in reader}\n",
    "        return population_dict\n",
    "    \n",
    "readfileintoDict_2('population.csv')\n",
    "\n",
    "pop_dict = readfileintoDict_2('population.csv')\n",
    "print(pop_dict)\n",
    "print(pop_dict['Alberta'])"
   ]
  },
  {
   "cell_type": "code",
   "execution_count": null,
   "metadata": {},
   "outputs": [],
   "source": []
  }
 ],
 "metadata": {
  "kernelspec": {
   "display_name": "Python 3",
   "language": "python",
   "name": "python3"
  },
  "language_info": {
   "codemirror_mode": {
    "name": "ipython",
    "version": 3
   },
   "file_extension": ".py",
   "mimetype": "text/x-python",
   "name": "python",
   "nbconvert_exporter": "python",
   "pygments_lexer": "ipython3",
   "version": "3.8.5"
  }
 },
 "nbformat": 4,
 "nbformat_minor": 4
}
