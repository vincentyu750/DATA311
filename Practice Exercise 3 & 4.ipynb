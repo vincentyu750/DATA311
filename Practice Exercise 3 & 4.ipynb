{
 "cells": [
  {
   "cell_type": "code",
   "execution_count": 1,
   "metadata": {},
   "outputs": [
    {
     "data": {
      "text/plain": [
       "'\\nExercise 3: \\nSquare of length 2:\\n##\\n##\\n\\nTriangle of height 3: \\n@\\n@@\\n@@@\\n\\nRectangle of legth 2 and width 3\\n##\\n##\\n##\\n\\nParalellogram of length 2 and width 3: \\n**\\n **\\n  **\\n'"
      ]
     },
     "execution_count": 1,
     "metadata": {},
     "output_type": "execute_result"
    }
   ],
   "source": [
    "\"\"\"\n",
    "Exercise 3: \n",
    "Square of length 2:\n",
    "##\n",
    "##\n",
    "Triangle of height 3: \n",
    "@\n",
    "@@\n",
    "@@@\n",
    "\n",
    "Rectangle of legth 2 and width 3\n",
    "##\n",
    "##\n",
    "##\n",
    "\n",
    "Paralellogram of length 2 and width 3: \n",
    "**\n",
    " **\n",
    "  **\n",
    "\"\"\""
   ]
  },
  {
   "cell_type": "code",
   "execution_count": 18,
   "metadata": {},
   "outputs": [
    {
     "name": "stdout",
     "output_type": "stream",
     "text": [
      "Please select one of the following objects to draw:\n",
      "\t1 - Square\n",
      "\t2 - Triangle\n",
      "\t3 - Rectangle\n",
      "\t4 - Paralellogram\n",
      "\n"
     ]
    },
    {
     "name": "stdin",
     "output_type": "stream",
     "text": [
      "Your selection is:  4\n",
      "Please enter the character for drawing:  @\n",
      "Please enter the width of the paralellogram:  3\n",
      "Please enter the height of the paralellogram:  4\n"
     ]
    },
    {
     "name": "stdout",
     "output_type": "stream",
     "text": [
      "@@@\n",
      " @@@\n",
      "  @@@\n",
      "   @@@\n"
     ]
    },
    {
     "name": "stdin",
     "output_type": "stream",
     "text": [
      "Your selection is:  4\n",
      "Please enter the character for drawing:  #\n",
      "Please enter the width of the paralellogram:  0\n"
     ]
    },
    {
     "name": "stdout",
     "output_type": "stream",
     "text": [
      "Total number of drawn object is 1\n"
     ]
    }
   ],
   "source": [
    "#This function draws a square from a given character and length\n",
    "\n",
    "def square(char, length):\n",
    "    for i in range(length):\n",
    "        for j in range(length):\n",
    "            print(char, end='')\n",
    "        print()\n",
    "\n",
    "def triangle(char, height):\n",
    "    for i in range(height):\n",
    "        #Range is always just from 0 to i for the triangle\n",
    "        for j in range(i+1):\n",
    "            print(char, end='')\n",
    "        print()\n",
    "\n",
    "def rectangle(char, height, width):\n",
    "    for i in range(height):\n",
    "        for j in range(width):\n",
    "            print(char, end='')\n",
    "        print()\n",
    "\n",
    "def paralellogram(char, height, width):\n",
    "    for i in range(height):\n",
    "        #here you will skip till i\n",
    "        for j in range(i):\n",
    "            print(\" \", end='')\n",
    "            \n",
    "        for j in range(width):\n",
    "            print(char, end='')\n",
    "        print()\n",
    "\n",
    "def main():\n",
    "    print(\"Please select one of the following objects to draw:\")\n",
    "    print(\"\\t1 - Square\\n\\t2 - Triangle\\n\\t3 - Rectangle\\n\\t4 - Paralellogram\\n\")\n",
    "    \n",
    "    objects = 0\n",
    "    \n",
    "    while True:\n",
    "        #Take input from console\n",
    "        selected = int(input(\"Your selection is: \"))\n",
    "        \n",
    "        #Case 0: Display number of objects drawn and quit the loop\n",
    "        if selected == 0:\n",
    "            print(\"Total number of drawn object is\", objects)\n",
    "            break\n",
    "        #Case 1: invalid selection\n",
    "        elif selected < 1 or selected > 4:\n",
    "            print(\"Invalid object.\")\n",
    "        \n",
    "        else:\n",
    "            character = input(\"Please enter the character for drawing: \")\n",
    "            if len(character) > 1:\n",
    "                print(\"Invalid character: Please enter a single character.\")\n",
    "            elif character == 0:\n",
    "                print(\"Total number of drawn object is\", objects)\n",
    "                break\n",
    "            else:\n",
    "                if selected == 1:\n",
    "                    length = int(input(\"Please enter the length of the square:\"))\n",
    "                    if length == 0:\n",
    "                        print(\"Total number of drawn object is\", objects)\n",
    "                        break\n",
    "                    else: \n",
    "                        square(character, length)\n",
    "                        objects +=1  \n",
    "                elif selected == 2:\n",
    "                    print(\"Triangle\")\n",
    "                elif selected == 3:\n",
    "                    print(\"Rectangle\")\n",
    "                else:\n",
    "                    width = int(input(\"Please enter the width of the paralellogram: \"))\n",
    "                    if width == 0:\n",
    "                        print(\"Total number of drawn object is\", objects)\n",
    "                        break\n",
    "                    height = int(input(\"Please enter the height of the paralellogram: \"))\n",
    "                    if height == 0:\n",
    "                        print(\"Total number of drawn object is\", objects)\n",
    "                        break\n",
    "                    \n",
    "                    paralellogram(character, height, width)\n",
    "                    objects +=1\n",
    "            \n",
    "        \n",
    "        \n",
    "\n",
    "main()"
   ]
  },
  {
   "cell_type": "code",
   "execution_count": 7,
   "metadata": {},
   "outputs": [
    {
     "name": "stdin",
     "output_type": "stream",
     "text": [
      "Please type 8 characters for the 1th row of chessboard :: \n",
      "Please type 8 characters for the 2th row of chessboard :: \n",
      "Please type 8 characters for the 3th row of chessboard :: \n",
      "Please type 8 characters for the 4th row of chessboard :: \n",
      "Please type 8 characters for the 5th row of chessboard :: \n",
      "Please type 8 characters for the 6th row of chessboard :: \n",
      "Please type 8 characters for the 7th row of chessboard :: \n",
      "Please type 8 characters for the 8th row of chessboard :: \n"
     ]
    },
    {
     "name": "stdout",
     "output_type": "stream",
     "text": [
      "here p\n",
      "0\n",
      "1\n",
      "Black Score :: 1   White Score ::0\n",
      "Black Won!\n"
     ]
    }
   ],
   "source": [
    "#Exercise 4: Solution with user input only\n",
    "\n",
    "#dictionary for values\n",
    "\n",
    "values = {'k':0, 'q':10, 'b':3, 'r':5, 'n':3, 'p':1, '-':0};\n",
    "#function for user input board validating\n",
    "def userInput():\n",
    "    data=[]\n",
    "    #reading the user iunput\n",
    "    for x in range(1,9):\n",
    "        temp=input(\"Please type 8 characters for the \"+str(x)+\"th row of chessboard ::\")\n",
    "        #Put input in list\n",
    "        data = data+list(temp)\n",
    "    #Scoring the board\n",
    "    result = score(['p'])\n",
    "    #printing the result\n",
    "    print(result)\n",
    "    #end of function\n",
    "\n",
    "#function to validate the board\n",
    "\n",
    "def score(data):\n",
    "    #score variables\n",
    "    white_score=0\n",
    "    black_score=0\n",
    "    \n",
    "    #calculating the scores\n",
    "    for piece in data:\n",
    "        if(piece.isalpha()):\n",
    "            #adding the scores\n",
    "            print(\"here\", piece)\n",
    "            if(piece.isupper()):\n",
    "                white_score = white_score + values[piece.lower()]\n",
    "            elif not (piece.isupper()):\n",
    "                black_score = black_score + values[piece.lower()]\n",
    "    #result formation\n",
    "    print(white_score)\n",
    "    print(black_score)\n",
    "    output = \"Black Score :: \"+str(black_score)+\"   White Score ::\"+str(white_score)\n",
    "    #winner evaluation\n",
    "    if(black_score>white_score):\n",
    "        output=output+\"\\nBlack Won!\"\n",
    "    elif(black_score<white_score):\n",
    "        output=output+\"\\nWhite Won!\"\n",
    "    else:\n",
    "        output=output+\"\\nGame is a tie!\"\n",
    "    #returnig the output\n",
    "    return output\n",
    "    #end of function\n",
    "\n",
    "#main function to run program\n",
    "\n",
    "def main():\n",
    "    userInput()\n",
    "\n",
    "               \n",
    "main()"
   ]
  },
  {
   "cell_type": "code",
   "execution_count": 13,
   "metadata": {},
   "outputs": [
    {
     "name": "stdout",
     "output_type": "stream",
     "text": [
      "1\n"
     ]
    }
   ],
   "source": []
  },
  {
   "cell_type": "code",
   "execution_count": null,
   "metadata": {},
   "outputs": [],
   "source": []
  }
 ],
 "metadata": {
  "kernelspec": {
   "display_name": "Python 3",
   "language": "python",
   "name": "python3"
  },
  "language_info": {
   "codemirror_mode": {
    "name": "ipython",
    "version": 3
   },
   "file_extension": ".py",
   "mimetype": "text/x-python",
   "name": "python",
   "nbconvert_exporter": "python",
   "pygments_lexer": "ipython3",
   "version": "3.8.3"
  }
 },
 "nbformat": 4,
 "nbformat_minor": 4
}
